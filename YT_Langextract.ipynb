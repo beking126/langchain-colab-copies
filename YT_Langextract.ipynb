{
  "nbformat": 4,
  "nbformat_minor": 0,
  "metadata": {
    "colab": {
      "provenance": [],
      "include_colab_link": true
    },
    "kernelspec": {
      "name": "python3",
      "display_name": "Python 3"
    },
    "language_info": {
      "name": "python"
    }
  },
  "cells": [
    {
      "cell_type": "markdown",
      "metadata": {
        "id": "view-in-github",
        "colab_type": "text"
      },
      "source": [
        "<a href=\"https://colab.research.google.com/github/beking126/langchain-colab-copies/blob/main/YT_Langextract.ipynb\" target=\"_parent\"><img src=\"https://colab.research.google.com/assets/colab-badge.svg\" alt=\"Open In Colab\"/></a>"
      ]
    },
    {
      "cell_type": "code",
      "execution_count": 1,
      "metadata": {
        "id": "wrRxH-FSiOuT",
        "colab": {
          "base_uri": "https://localhost:8080/"
        },
        "outputId": "f60d2842-fbd4-4eac-c80f-254233045e03"
      },
      "outputs": [
        {
          "output_type": "stream",
          "name": "stdout",
          "text": [
            "\u001b[2K   \u001b[90m━━━━━━━━━━━━━━━━━━━━━━━━━━━━━━━━━━━━━━━━\u001b[0m \u001b[32m62.4/62.4 kB\u001b[0m \u001b[31m1.8 MB/s\u001b[0m eta \u001b[36m0:00:00\u001b[0m\n",
            "\u001b[2K   \u001b[90m━━━━━━━━━━━━━━━━━━━━━━━━━━━━━━━━━━━━━━━━\u001b[0m \u001b[32m76.7/76.7 kB\u001b[0m \u001b[31m5.6 MB/s\u001b[0m eta \u001b[36m0:00:00\u001b[0m\n",
            "\u001b[?25h"
          ]
        }
      ],
      "source": [
        "!pip -q install langextract"
      ]
    },
    {
      "cell_type": "code",
      "source": [
        "import os\n",
        "from google.colab import userdata\n",
        "\n",
        "LANGEXTRACT_API_KEY = userdata.get('GOOGLE_API_KEY')\n",
        "os.environ[\"LANGEXTRACT_API_KEY\"] = LANGEXTRACT_API_KEY\n"
      ],
      "metadata": {
        "id": "r31CsYKoTYJ1"
      },
      "execution_count": 2,
      "outputs": []
    },
    {
      "cell_type": "code",
      "source": [
        "import textwrap\n",
        "import langextract as lx\n",
        "\n",
        "# 1. Define a concise prompt\n",
        "prompt = textwrap.dedent(\"\"\"\\\n",
        "Extract characters, emotions, and relationships in order of appearance.\n",
        "Use exact text for extractions. Do not paraphrase or overlap entities.\n",
        "Provide meaningful attributes for each entity to add context.\"\"\")\n",
        "\n",
        "# 2. Provide a high-quality example to guide the model\n",
        "examples = [\n",
        "    lx.data.ExampleData(\n",
        "        text=(\n",
        "            \"ROMEO. But soft! What light through yonder window breaks? It is\"\n",
        "            \" the east, and Juliet is the sun.\"\n",
        "        ),\n",
        "        extractions=[\n",
        "            lx.data.Extraction(\n",
        "                extraction_class=\"character\",\n",
        "                extraction_text=\"ROMEO\",\n",
        "                attributes={\"emotional_state\": \"wonder\"},\n",
        "            ),\n",
        "            lx.data.Extraction(\n",
        "                extraction_class=\"emotion\",\n",
        "                extraction_text=\"But soft!\",\n",
        "                attributes={\"feeling\": \"gentle awe\"},\n",
        "            ),\n",
        "            lx.data.Extraction(\n",
        "                extraction_class=\"relationship\",\n",
        "                extraction_text=\"Juliet is the sun\",\n",
        "                attributes={\"type\": \"metaphor\"},\n",
        "            ),\n",
        "        ],\n",
        "    )\n",
        "]\n",
        "\n",
        "# 3. Run the extraction on your input text\n",
        "input_text = (\n",
        "    \"Lady Juliet gazed longingly at the stars, her heart aching for Romeo\"\n",
        ")\n",
        "result = lx.extract(\n",
        "    text_or_documents=input_text,\n",
        "    prompt_description=prompt,\n",
        "    examples=examples,\n",
        "    model_id=\"gemini-2.5-pro\",\n",
        ")"
      ],
      "metadata": {
        "id": "DbvExE2wibg5",
        "colab": {
          "base_uri": "https://localhost:8080/"
        },
        "outputId": "67136ccb-233a-4fa8-be2d-1921b3050b37"
      },
      "execution_count": 3,
      "outputs": [
        {
          "output_type": "stream",
          "name": "stderr",
          "text": [
            "\u001b[94m\u001b[1mLangExtract\u001b[0m: model=\u001b[92mgemini-2.5-pro\u001b[0m, current=\u001b[92m68\u001b[0m chars, processed=\u001b[92m68\u001b[0m chars:  [00:17]"
          ]
        },
        {
          "output_type": "stream",
          "name": "stdout",
          "text": [
            "\u001b[92m✓\u001b[0m Extraction processing complete\n",
            "\u001b[92m✓\u001b[0m Extracted \u001b[1m4\u001b[0m entities (\u001b[1m2\u001b[0m unique types)\n",
            "  \u001b[96m•\u001b[0m Time: \u001b[1m17.49s\u001b[0m\n",
            "  \u001b[96m•\u001b[0m Speed: \u001b[1m4\u001b[0m chars/sec\n",
            "  \u001b[96m•\u001b[0m Chunks: \u001b[1m1\u001b[0m\n"
          ]
        },
        {
          "output_type": "stream",
          "name": "stderr",
          "text": [
            "\n"
          ]
        }
      ]
    },
    {
      "cell_type": "code",
      "source": [
        "result"
      ],
      "metadata": {
        "colab": {
          "base_uri": "https://localhost:8080/"
        },
        "id": "SGLLaKqqTxtI",
        "outputId": "557f67ee-cfd6-4c52-c73b-eefb00748238"
      },
      "execution_count": 4,
      "outputs": [
        {
          "output_type": "execute_result",
          "data": {
            "text/plain": [
              "AnnotatedDocument(extractions=[Extraction(extraction_class='character', extraction_text='Lady Juliet', char_interval=CharInterval(start_pos=0, end_pos=11), alignment_status=<AlignmentStatus.MATCH_EXACT: 'match_exact'>, extraction_index=1, group_index=0, description=None, attributes={'emotional_state': 'longing'}), Extraction(extraction_class='emotion', extraction_text='gazed longingly', char_interval=CharInterval(start_pos=12, end_pos=27), alignment_status=<AlignmentStatus.MATCH_EXACT: 'match_exact'>, extraction_index=2, group_index=1, description=None, attributes={'feeling': 'yearning'}), Extraction(extraction_class='emotion', extraction_text='heart aching', char_interval=CharInterval(start_pos=46, end_pos=58), alignment_status=<AlignmentStatus.MATCH_EXACT: 'match_exact'>, extraction_index=3, group_index=2, description=None, attributes={'feeling': 'sorrow'}), Extraction(extraction_class='character', extraction_text='Romeo', char_interval=CharInterval(start_pos=63, end_pos=68), alignment_status=<AlignmentStatus.MATCH_EXACT: 'match_exact'>, extraction_index=4, group_index=3, description=None, attributes=None)], text='Lady Juliet gazed longingly at the stars, her heart aching for Romeo')"
            ]
          },
          "metadata": {},
          "execution_count": 4
        }
      ]
    },
    {
      "cell_type": "markdown",
      "source": [
        "## Custom example"
      ],
      "metadata": {
        "id": "9ErXivtbU5Qk"
      }
    },
    {
      "cell_type": "code",
      "source": [
        "TC_ARTICLE = \"\"\"Shortly after Hunter Lightman joined OpenAI as a researcher in 2022, he watched his colleagues launch ChatGPT, one of the fastest-growing products ever. Meanwhile, Lightman quietly worked on a team teaching OpenAI’s models to solve high school math competitions.\n",
        "\n",
        "Today that team, known as MathGen, is considered instrumental to OpenAI’s industry-leading effort to create AI reasoning models: the core technology behind AI agents that can do tasks on a computer like a human would.\n",
        "\n",
        "“We were trying to make the models better at mathematical reasoning, which at the time they weren’t very good at,” Lightman told TechCrunch, describing MathGen’s early work.\n",
        "\n",
        "OpenAI’s models are far from perfect today — the company’s latest AI systems still hallucinate and its agents struggle with complex tasks.\n",
        "\n",
        "But its state-of-the-art models have improved significantly on mathematical reasoning. One of OpenAI’s models recently won a gold medal at the International Math Olympiad, a math competition for the world’s brightest high school students. OpenAI believes these reasoning capabilities will translate to other subjects, and ultimately power general-purpose agents that the company has always dreamed of building.\n",
        "\n",
        "ChatGPT was a happy accident — a lowkey research preview turned viral consumer business — but OpenAI’s agents are the product of a years-long, deliberate effort within the company.\n",
        "\n",
        "“Eventually, you’ll just ask the computer for what you need and it’ll do all of these tasks for you,” said OpenAI CEO Sam Altman at the company’s first developer conference in 2023. “These capabilities are often talked about in the AI field as agents. The upsides of this are going to be tremendous.”\n",
        "\n",
        "Whether agents will meet Altman’s vision remains to be seen, but OpenAI shocked the world with the release of its first AI reasoning model, o1, in the fall of 2024. Less than a year later, the 21 foundational researchers behind that breakthrough are the most highly sought-after talent in Silicon Valley.\n",
        "\n",
        "Mark Zuckerberg recruited five of the o1 researchers to work on Meta’s new superintelligence-focused unit, offering some compensation packages north of $100 million. One of them, Shengjia Zhao, was recently named chief scientist of Meta Superintelligence Labs.\n",
        "\n",
        "The reinforcement learning renaissance\n",
        "The rise of OpenAI’s reasoning models and agents are tied to a machine learning training technique known as reinforcement learning (RL). RL provides feedback to an AI model on whether its choices were correct or not in simulated environments.\n",
        "\n",
        "RL has been used for decades. For instance, in 2016, about a year after OpenAI was founded in 2015, an AI system created by Google DeepMind using RL, AlphaGo, gained global attention after beating a world champion in the board game, Go.\n",
        "\n",
        "By 2018, OpenAI pioneered its first large language model in the GPT series, pretrained on massive amounts of internet data and a large clusters of GPUs. GPT models excelled at text processing, eventually leading to ChatGPT, but struggled with basic math.\n",
        "\n",
        "It took until 2023 for OpenAI to achieve a breakthrough, initially dubbed “Q*” and then “Strawberry,” by combining LLMs, RL, and a technique called test-time computation. The latter gave the models extra time and computing power to plan and work through problems, verifying its steps, before providing an answer.\n",
        "\n",
        "This allowed OpenAI to introduce a new approach called “chain-of-thought” (CoT), which improved AI’s performance on math questions the models hadn’t seen before.\n",
        "\n",
        "“I could see the model starting to reason,” said El Kishky. “It would notice mistakes and backtrack, it would get frustrated. It really felt like reading the thoughts of a person.”\n",
        "\n",
        "Though individually these techniques weren’t novel, OpenAI uniquely combined them to create Strawberry, which directly led to the development of o1. OpenAI quickly identified that the planning and fact checking abilities of AI reasoning models could be useful to power AI agents.\n",
        "\n",
        "“We had solved a problem that I had been banging my head against for a couple of years,” said Lightman. “It was one of the most exciting moments of my research career.”\n",
        "\n",
        "Scaling reasoning\n",
        "With AI reasoning models, OpenAI determined it had two new axes that would allow it to improve AI models: using more computational power during the post-training of AI models, and giving AI models more time and processing power while answering a question.\n",
        "\n",
        "“OpenAI, as a company, thinks a lot about not just the way things are, but the way things are going to scale,” said Lightman.\n",
        "\n",
        "Shortly after the 2023 Strawberry breakthrough, OpenAI spun up an “Agents” team led by OpenAI researcher Daniel Selsam to make further progress on this new paradigm, two sources told TechCrunch. Although the team was called “Agents,”  OpenAI didn’t initially differentiate between reasoning models and agents as we think of them today. The company just wanted to make AI systems capable of completing complex tasks.\n",
        "\n",
        "Eventually, the work of Selsam’s Agents team became part of a larger project to develop the o1 reasoning model, with leaders including OpenAI co-founder Ilya Sutskever, chief research officer Mark Chen, and chief scientist Jakub Pachocki.\n",
        "\n",
        "OpenAI would have to divert precious resources — mainly talent and GPUs — to create o1. Throughout OpenAI’s history, researchers have had to negotiate with company leaders to obtain resources; demonstrating breakthroughs was a surefire way to secure them.\n",
        "\n",
        "“One of the core components of OpenAI is that everything in research is bottom up,” said Lightman. “When we showed the evidence [for o1], the company was like, ‘This makes sense, let’s push on it.’”\n",
        "\n",
        "Some former employees say that the startup’s mission to develop AGI was the key factor in achieving breakthroughs around AI reasoning models. By focusing on developing the smartest-possible AI models, rather than products, OpenAI was able to prioritize o1 above other efforts. That type of large investment in ideas wasn’t always possible at competing AI labs.\n",
        "\n",
        "The decision to try new training methods proved prescient. By late 2024, several leading AI labs started seeing diminishing returns on models created through traditional pretraining scaling. Today, much of the AI field’s momentum comes from advances in reasoning models.\n",
        "\n",
        "What does it mean for an AI to “reason?”\n",
        "In many ways, the goal of AI research is to recreate human intelligence with computers. Since the launch of o1, ChatGPT’s UX has been filled with more human-sounding features such as “thinking” and “reasoning.”\n",
        "\n",
        "When asked whether OpenAI’s models were truly reasoning, El Kishky hedged, saying he thinks about the concept in terms of computer science.\n",
        "\n",
        "“We’re teaching the model how to efficiently expend compute to get an answer. So if you define it that way, yes, it is reasoning,” said El Kishky.\n",
        "\n",
        "Lightman takes the approach of focusing on the model’s results and not as much on the means or their relation to human brains.\n",
        "\n",
        "“If the model is doing hard things, then it is doing whatever necessary approximation of reasoning it needs in order to do that,” said Lightman. “We can call it reasoning, because it looks like these reasoning traces, but it’s all just a proxy for trying to make AI tools that are really powerful and useful to a lot of people.”\n",
        "\n",
        "OpenAI’s researchers note people may disagree with their nomenclature or definitions of reasoning — and surely, critics have emerged — but they argue it’s less important than the capabilities of their models. Other AI researchers tend to agree.\n",
        "\n",
        "Nathan Lambert, an AI researcher with the non-profit AI2, compares AI reasoning modes to airplanes in a blog post. Both, he says, are manmade systems inspired by nature — human reasoning and bird flight, respectively — but they operate through entirely different mechanisms. That doesn’t make them any less useful, or any less capable of achieving similar outcomes.\n",
        "\n",
        "A group of AI researchers from OpenAI, Anthropic, and Google DeepMind agreed in a recent position paper that AI reasoning models are not well understood today, and more research is needed. It may be too early to confidently claim what exactly is going on inside them.\n",
        "\n",
        "The next frontier: AI agents for subjective tasks\n",
        "The AI agents on the market today work best for well-defined, verifiable domains such as coding. OpenAI’s Codex agent aims to help software engineers offload simple coding tasks. Meanwhile, Anthropic’s models have become particularly popular in AI coding tools like Cursor and Claude Code — these are some of the first AI agents that people are willing to pay up for.\n",
        "\n",
        "However, general purpose AI agents like OpenAI’s ChatGPT Agent and Perplexity’s Comet struggle with many of the complex, subjective tasks people want to automate. When trying to use these tools for online shopping or finding a long-term parking spot, I’ve found the agents take longer than I’d like and make silly mistakes.\n",
        "\n",
        "Agents are, of course, early systems that will undoubtedly improve. But researchers must first figure out how to better train the underlying models to complete tasks that are more subjective.\n",
        "\n",
        "“Like many problems in machine learning, it’s a data problem,” said Lightman, when asked about the limitations of agents on subjective tasks. “Some of the research I’m really excited about right now is figuring out how to train on less verifiable tasks. We have some leads on how to do these things.”\n",
        "\n",
        "Noam Brown, an OpenAI researcher who helped create the IMO model and o1, told TechCrunch that OpenAI has new general-purpose RL techniques which allow them to teach AI models skills that aren’t easily verified. This was how the company built the model which achieved a gold medal at IMO, he said.\n",
        "\n",
        "OpenAI’s IMO model was a newer AI system that spawns multiple agents, which then simultaneously explore several ideas, and then choose the best possible answer. These types of AI models are becoming more popular; Google and xAI have recently released state-of-the-art models using this technique.\n",
        "\n",
        "“I think these models will become more capable at math, and I think they’ll get more capable in other reasoning areas as well,” said Brown. “The progress has been incredibly fast. I don’t see any reason to think it will slow down.”\n",
        "\n",
        "These techniques may help OpenAI’s models become more performant, gains that could show up in the company’s upcoming GPT-5 model. OpenAI hopes to assert its dominance over competitors with the launch of GPT-5, ideally offering the best AI model to power agents for developers and consumers.\n",
        "\n",
        "But the company also wants to make its products simpler to use. El Kishky says OpenAI wants to develop AI agents that intuitively understand what users want, without requiring them to select specific settings. He says OpenAI aims to build AI systems that understand when to call up certain tools, and how long to reason for.\n",
        "\n",
        "These ideas paint a picture of an ultimate version of ChatGPT: an agent that can do anything on the internet for you, and understand how you want it to be done. That’s a much different product than what ChatGPT is today, but the company’s research is squarely headed in this direction.\n",
        "\n",
        "While OpenAI undoubtedly led the AI industry a few years ago, the company now faces a tranche of worthy opponents. The question is no longer just whether OpenAI can deliver its agentic future, but can the company do so before Google, Anthropic, xAI, or Meta beat them to it?\"\"\"\n",
        "\n"
      ],
      "metadata": {
        "id": "w_Sy58unT9ps"
      },
      "execution_count": 5,
      "outputs": []
    },
    {
      "cell_type": "code",
      "source": [
        "# 1. Define a concise prompt\n",
        "prompt = textwrap.dedent(\"\"\"\\\n",
        "Extract people's name, ai models, products and company names in order of appearance.\n",
        "Use exact text for extractions. Do not paraphrase or overlap entities.\n",
        "Provide meaningful related entities for each entity to add context.\"\"\")\n",
        "\n",
        "# 2. Provide a high-quality example to guide the model\n",
        "examples = [\n",
        "    lx.data.ExampleData(\n",
        "        text=(\n",
        "            \"David Ha from Sakana AI labs has trained many models\"\n",
        "            \" including the early 'WM1' and his company makes a product called 'AI Scientist' .\"\n",
        "        ),\n",
        "        extractions=[\n",
        "            lx.data.Extraction(\n",
        "                extraction_class=\"person_name\",\n",
        "                extraction_text=\"David Ha\",\n",
        "                attributes={\"company\": \"Sakana AI\"},\n",
        "            ),\n",
        "            lx.data.Extraction(\n",
        "                extraction_class=\"company_name\",\n",
        "                extraction_text=\"Sakana AI\",\n",
        "                attributes={\"employee\": \"David Ha\"},\n",
        "            ),\n",
        "            lx.data.Extraction(\n",
        "                extraction_class=\"ai_model\",\n",
        "                extraction_text=\"WM1\",\n",
        "                attributes={\"company\": \"Sakana AI\"},\n",
        "            ),\n",
        "            lx.data.Extraction(\n",
        "                extraction_class=\"product\",\n",
        "                extraction_text=\"'AI Scientist'\",\n",
        "                attributes={\"company\": \"Sakana AI\"},\n",
        "            ),\n",
        "        ],\n",
        "    )\n",
        "]\n",
        "\n",
        "# 3. Run the extraction on your input text\n",
        "input_text = (\n",
        "    TC_ARTICLE\n",
        ")\n",
        "result = lx.extract(\n",
        "    text_or_documents=input_text,\n",
        "    prompt_description=prompt,\n",
        "    examples=examples,\n",
        "    model_id=\"gemini-2.5-flash-lite\",\n",
        ")"
      ],
      "metadata": {
        "colab": {
          "base_uri": "https://localhost:8080/"
        },
        "id": "YxRjCgcWUA4o",
        "outputId": "7862753f-d6bf-4257-de3a-2eaecd0f5a15"
      },
      "execution_count": 7,
      "outputs": [
        {
          "output_type": "stream",
          "name": "stderr",
          "text": [
            "\u001b[94m\u001b[1mLangExtract\u001b[0m: model=\u001b[92mgemini-2.5-flash-lite\u001b[0m, current=\u001b[92m2,306\u001b[0m chars, processed=\u001b[92m11,408\u001b[0m chars:  [00:10]"
          ]
        },
        {
          "output_type": "stream",
          "name": "stdout",
          "text": [
            "\u001b[92m✓\u001b[0m Extraction processing complete\n",
            "\u001b[92m✓\u001b[0m Extracted \u001b[1m103\u001b[0m entities (\u001b[1m4\u001b[0m unique types)\n",
            "  \u001b[96m•\u001b[0m Time: \u001b[1m10.91s\u001b[0m\n",
            "  \u001b[96m•\u001b[0m Speed: \u001b[1m1,047\u001b[0m chars/sec\n",
            "  \u001b[96m•\u001b[0m Chunks: \u001b[1m12\u001b[0m\n"
          ]
        },
        {
          "output_type": "stream",
          "name": "stderr",
          "text": [
            "\n"
          ]
        }
      ]
    },
    {
      "cell_type": "code",
      "source": [
        "result"
      ],
      "metadata": {
        "colab": {
          "base_uri": "https://localhost:8080/"
        },
        "id": "96A2tS-VXnEy",
        "outputId": "106ddf3d-128e-46ca-f1a7-2abe81bc9494"
      },
      "execution_count": null,
      "outputs": [
        {
          "output_type": "execute_result",
          "data": {
            "text/plain": [
              "AnnotatedDocument(extractions=[Extraction(extraction_class='person_name', extraction_text='Hunter Lightman', char_interval=CharInterval(start_pos=14, end_pos=29), alignment_status=<AlignmentStatus.MATCH_EXACT: 'match_exact'>, extraction_index=1, group_index=0, description=None, attributes={'company': 'OpenAI'}), Extraction(extraction_class='company_name', extraction_text='OpenAI', char_interval=CharInterval(start_pos=37, end_pos=43), alignment_status=<AlignmentStatus.MATCH_EXACT: 'match_exact'>, extraction_index=2, group_index=1, description=None, attributes={'employee': 'Hunter Lightman'}), Extraction(extraction_class='product', extraction_text='ChatGPT', char_interval=CharInterval(start_pos=102, end_pos=109), alignment_status=<AlignmentStatus.MATCH_EXACT: 'match_exact'>, extraction_index=3, group_index=2, description=None, attributes={'company': 'OpenAI'}), Extraction(extraction_class='company_name', extraction_text='TechCrunch', char_interval=CharInterval(start_pos=613, end_pos=623), alignment_status=<AlignmentStatus.MATCH_EXACT: 'match_exact'>, extraction_index=4, group_index=3, description=None, attributes=None), Extraction(extraction_class='company_name', extraction_text='OpenAI', char_interval=CharInterval(start_pos=893, end_pos=899), alignment_status=<AlignmentStatus.MATCH_EXACT: 'match_exact'>, extraction_index=1, group_index=0, description=None, attributes=None), Extraction(extraction_class='product', extraction_text='general-purpose agents', char_interval=CharInterval(start_pos=1138, end_pos=1160), alignment_status=<AlignmentStatus.MATCH_EXACT: 'match_exact'>, extraction_index=2, group_index=1, description=None, attributes={'company': 'OpenAI'}), Extraction(extraction_class='ai_model', extraction_text='ChatGPT', char_interval=CharInterval(start_pos=1211, end_pos=1218), alignment_status=<AlignmentStatus.MATCH_EXACT: 'match_exact'>, extraction_index=3, group_index=2, description=None, attributes={'company': 'OpenAI'}), Extraction(extraction_class='product', extraction_text='OpenAI’s agents', char_interval=CharInterval(start_pos=1305, end_pos=1320), alignment_status=<AlignmentStatus.MATCH_EXACT: 'match_exact'>, extraction_index=4, group_index=3, description=None, attributes={'company': 'OpenAI'}), Extraction(extraction_class='person_name', extraction_text='Sam Altman', char_interval=CharInterval(start_pos=1512, end_pos=1522), alignment_status=<AlignmentStatus.MATCH_EXACT: 'match_exact'>, extraction_index=5, group_index=4, description=None, attributes={'company': 'OpenAI'}), Extraction(extraction_class='product', extraction_text='agents', char_interval=CharInterval(start_pos=1638, end_pos=1644), alignment_status=<AlignmentStatus.MATCH_EXACT: 'match_exact'>, extraction_index=6, group_index=5, description=None, attributes={'company': 'OpenAI'}), Extraction(extraction_class='ai_model', extraction_text='o1', char_interval=CharInterval(start_pos=1836, end_pos=1838), alignment_status=<AlignmentStatus.MATCH_EXACT: 'match_exact'>, extraction_index=7, group_index=6, description=None, attributes={'company': 'OpenAI'}), Extraction(extraction_class='person_name', extraction_text='Mark Zuckerberg', char_interval=CharInterval(start_pos=2002, end_pos=2017), alignment_status=<AlignmentStatus.MATCH_EXACT: 'match_exact'>, extraction_index=1, group_index=0, description=None, attributes={'company': 'Meta'}), Extraction(extraction_class='company_name', extraction_text='Meta', char_interval=CharInterval(start_pos=2066, end_pos=2070), alignment_status=<AlignmentStatus.MATCH_EXACT: 'match_exact'>, extraction_index=2, group_index=1, description=None, attributes={'employee': 'Mark Zuckerberg'}), Extraction(extraction_class='person_name', extraction_text='Shengjia Zhao', char_interval=CharInterval(start_pos=2181, end_pos=2194), alignment_status=<AlignmentStatus.MATCH_EXACT: 'match_exact'>, extraction_index=3, group_index=2, description=None, attributes={'company': 'Meta Superintelligence Labs'}), Extraction(extraction_class='company_name', extraction_text='Meta Superintelligence Labs', char_interval=CharInterval(start_pos=2234, end_pos=2261), alignment_status=<AlignmentStatus.MATCH_EXACT: 'match_exact'>, extraction_index=4, group_index=3, description=None, attributes={'employee': 'Shengjia Zhao'}), Extraction(extraction_class='company_name', extraction_text='OpenAI', char_interval=CharInterval(start_pos=2315, end_pos=2321), alignment_status=<AlignmentStatus.MATCH_EXACT: 'match_exact'>, extraction_index=5, group_index=4, description=None, attributes=None), Extraction(extraction_class='company_name', extraction_text='Google DeepMind', char_interval=CharInterval(start_pos=2671, end_pos=2686), alignment_status=<AlignmentStatus.MATCH_EXACT: 'match_exact'>, extraction_index=6, group_index=5, description=None, attributes={'employee': 'AlphaGo'}), Extraction(extraction_class='ai_model', extraction_text='AlphaGo', char_interval=CharInterval(start_pos=2697, end_pos=2704), alignment_status=<AlignmentStatus.MATCH_EXACT: 'match_exact'>, extraction_index=7, group_index=6, description=None, attributes={'company': 'Google DeepMind'}), Extraction(extraction_class='company_name', extraction_text='OpenAI', char_interval=CharInterval(start_pos=2794, end_pos=2800), alignment_status=<AlignmentStatus.MATCH_EXACT: 'match_exact'>, extraction_index=1, group_index=0, description=None, attributes=None), Extraction(extraction_class='ai_model', extraction_text='GPT series', char_interval=CharInterval(start_pos=2849, end_pos=2859), alignment_status=<AlignmentStatus.MATCH_EXACT: 'match_exact'>, extraction_index=2, group_index=1, description=None, attributes={'company': 'OpenAI'}), Extraction(extraction_class='ai_model', extraction_text='ChatGPT', char_interval=CharInterval(start_pos=3000, end_pos=3007), alignment_status=<AlignmentStatus.MATCH_EXACT: 'match_exact'>, extraction_index=3, group_index=2, description=None, attributes={'company': 'OpenAI'}), Extraction(extraction_class='ai_model', extraction_text='Q*', char_interval=CharInterval(start_pos=3117, end_pos=3118), alignment_status=<AlignmentStatus.MATCH_LESSER: 'match_lesser'>, extraction_index=4, group_index=3, description=None, attributes={'company': 'OpenAI'}), Extraction(extraction_class='ai_model', extraction_text='Strawberry', char_interval=CharInterval(start_pos=3131, end_pos=3141), alignment_status=<AlignmentStatus.MATCH_EXACT: 'match_exact'>, extraction_index=5, group_index=4, description=None, attributes={'company': 'OpenAI'}), Extraction(extraction_class='person_name', extraction_text='El Kishky', char_interval=CharInterval(start_pos=3568, end_pos=3577), alignment_status=<AlignmentStatus.MATCH_EXACT: 'match_exact'>, extraction_index=6, group_index=5, description=None, attributes=None), Extraction(extraction_class='company_name', extraction_text='OpenAI', char_interval=CharInterval(start_pos=3754, end_pos=3760), alignment_status=<AlignmentStatus.MATCH_EXACT: 'match_exact'>, extraction_index=1, group_index=0, description=None, attributes={'employee': 'Lightman'}), Extraction(extraction_class='ai_model', extraction_text='Strawberry', char_interval=CharInterval(start_pos=3794, end_pos=3804), alignment_status=<AlignmentStatus.MATCH_EXACT: 'match_exact'>, extraction_index=2, group_index=1, description=None, attributes={'company': 'OpenAI'}), Extraction(extraction_class='ai_model', extraction_text='o1', char_interval=CharInterval(start_pos=3847, end_pos=3849), alignment_status=<AlignmentStatus.MATCH_EXACT: 'match_exact'>, extraction_index=3, group_index=2, description=None, attributes={'company': 'OpenAI'}), Extraction(extraction_class='person_name', extraction_text='Lightman', char_interval=CharInterval(start_pos=4077, end_pos=4085), alignment_status=<AlignmentStatus.MATCH_EXACT: 'match_exact'>, extraction_index=4, group_index=3, description=None, attributes={'company': 'OpenAI'}), Extraction(extraction_class='company_name', extraction_text='OpenAI', char_interval=CharInterval(start_pos=4603, end_pos=4609), alignment_status=<AlignmentStatus.MATCH_EXACT: 'match_exact'>, extraction_index=1, group_index=0, description=None, attributes={'employee': 'Daniel Selsam'}), Extraction(extraction_class='person_name', extraction_text='Daniel Selsam', char_interval=CharInterval(start_pos=4660, end_pos=4673), alignment_status=<AlignmentStatus.MATCH_EXACT: 'match_exact'>, extraction_index=2, group_index=1, description=None, attributes={'company': 'OpenAI'}), Extraction(extraction_class='company_name', extraction_text='TechCrunch', char_interval=CharInterval(start_pos=4738, end_pos=4748), alignment_status=<AlignmentStatus.MATCH_EXACT: 'match_exact'>, extraction_index=3, group_index=2, description=None, attributes=None), Extraction(extraction_class='ai_model', extraction_text='o1', char_interval=CharInterval(start_pos=5064, end_pos=5066), alignment_status=<AlignmentStatus.MATCH_EXACT: 'match_exact'>, extraction_index=4, group_index=3, description=None, attributes={'company': 'OpenAI'}), Extraction(extraction_class='person_name', extraction_text='Ilya Sutskever', char_interval=CharInterval(start_pos=5125, end_pos=5139), alignment_status=<AlignmentStatus.MATCH_EXACT: 'match_exact'>, extraction_index=5, group_index=4, description=None, attributes={'company': 'OpenAI'}), Extraction(extraction_class='person_name', extraction_text='Mark Chen', char_interval=CharInterval(start_pos=5164, end_pos=5173), alignment_status=<AlignmentStatus.MATCH_EXACT: 'match_exact'>, extraction_index=6, group_index=5, description=None, attributes={'company': 'OpenAI'}), Extraction(extraction_class='person_name', extraction_text='Jakub Pachocki', char_interval=CharInterval(start_pos=5195, end_pos=5209), alignment_status=<AlignmentStatus.MATCH_EXACT: 'match_exact'>, extraction_index=7, group_index=6, description=None, attributes={'company': 'OpenAI'}), Extraction(extraction_class='company_name', extraction_text='OpenAI', char_interval=CharInterval(start_pos=5500, end_pos=5506), alignment_status=<AlignmentStatus.MATCH_EXACT: 'match_exact'>, extraction_index=1, group_index=0, description=None, attributes={'employee': 'Lightman'}), Extraction(extraction_class='person_name', extraction_text='Lightman', char_interval=CharInterval(start_pos=5558, end_pos=5566), alignment_status=<AlignmentStatus.MATCH_EXACT: 'match_exact'>, extraction_index=2, group_index=1, description=None, attributes={'company': 'OpenAI'}), Extraction(extraction_class='ai_model', extraction_text='o1', char_interval=CharInterval(start_pos=5602, end_pos=5604), alignment_status=<AlignmentStatus.MATCH_EXACT: 'match_exact'>, extraction_index=3, group_index=2, description=None, attributes={'company': 'OpenAI'}), Extraction(extraction_class='product', extraction_text='o1', char_interval=CharInterval(start_pos=6452, end_pos=6454), alignment_status=<AlignmentStatus.MATCH_EXACT: 'match_exact'>, extraction_index=1, group_index=0, description=None, attributes=None), Extraction(extraction_class='ai_model', extraction_text='ChatGPT', char_interval=CharInterval(start_pos=6456, end_pos=6463), alignment_status=<AlignmentStatus.MATCH_EXACT: 'match_exact'>, extraction_index=2, group_index=1, description=None, attributes={'company': 'OpenAI'}), Extraction(extraction_class='company_name', extraction_text='OpenAI', char_interval=CharInterval(start_pos=6575, end_pos=6581), alignment_status=<AlignmentStatus.MATCH_EXACT: 'match_exact'>, extraction_index=3, group_index=2, description=None, attributes={'employee': 'El Kishky'}), Extraction(extraction_class='person_name', extraction_text='El Kishky', char_interval=CharInterval(start_pos=6613, end_pos=6622), alignment_status=<AlignmentStatus.MATCH_EXACT: 'match_exact'>, extraction_index=4, group_index=3, description=None, attributes={'company': 'OpenAI'}), Extraction(extraction_class='person_name', extraction_text='Lightman', char_interval=CharInterval(start_pos=6845, end_pos=6853), alignment_status=<AlignmentStatus.MATCH_EXACT: 'match_exact'>, extraction_index=5, group_index=4, description=None, attributes=None), Extraction(extraction_class='company_name', extraction_text='OpenAI', char_interval=CharInterval(start_pos=7303, end_pos=7309), alignment_status=<AlignmentStatus.MATCH_EXACT: 'match_exact'>, extraction_index=1, group_index=0, description=None, attributes=None), Extraction(extraction_class='person_name', extraction_text='Nathan Lambert', char_interval=CharInterval(start_pos=7549, end_pos=7563), alignment_status=<AlignmentStatus.MATCH_EXACT: 'match_exact'>, extraction_index=2, group_index=1, description=None, attributes={'company': 'AI2'}), Extraction(extraction_class='company_name', extraction_text='AI2', char_interval=CharInterval(start_pos=7602, end_pos=7605), alignment_status=<AlignmentStatus.MATCH_EXACT: 'match_exact'>, extraction_index=3, group_index=2, description=None, attributes={'employee': 'Nathan Lambert'}), Extraction(extraction_class='company_name', extraction_text='Anthropic', char_interval=CharInterval(start_pos=7955, end_pos=7964), alignment_status=<AlignmentStatus.MATCH_EXACT: 'match_exact'>, extraction_index=4, group_index=3, description=None, attributes=None), Extraction(extraction_class='company_name', extraction_text='Google DeepMind', char_interval=CharInterval(start_pos=7970, end_pos=7985), alignment_status=<AlignmentStatus.MATCH_EXACT: 'match_exact'>, extraction_index=5, group_index=4, description=None, attributes=None), Extraction(extraction_class='company_name', extraction_text='OpenAI', char_interval=CharInterval(start_pos=8332, end_pos=8338), alignment_status=<AlignmentStatus.MATCH_EXACT: 'match_exact'>, extraction_index=1, group_index=0, description=None, attributes=None), Extraction(extraction_class='ai_model', extraction_text='Codex', char_interval=CharInterval(start_pos=8341, end_pos=8346), alignment_status=<AlignmentStatus.MATCH_EXACT: 'match_exact'>, extraction_index=2, group_index=1, description=None, attributes={'company': 'OpenAI'}), Extraction(extraction_class='company_name', extraction_text='Anthropic', char_interval=CharInterval(start_pos=8425, end_pos=8434), alignment_status=<AlignmentStatus.MATCH_EXACT: 'match_exact'>, extraction_index=3, group_index=2, description=None, attributes=None), Extraction(extraction_class='product', extraction_text='Cursor', char_interval=CharInterval(start_pos=8501, end_pos=8507), alignment_status=<AlignmentStatus.MATCH_EXACT: 'match_exact'>, extraction_index=4, group_index=3, description=None, attributes=None), Extraction(extraction_class='product', extraction_text='Claude Code', char_interval=CharInterval(start_pos=8512, end_pos=8523), alignment_status=<AlignmentStatus.MATCH_EXACT: 'match_exact'>, extraction_index=5, group_index=4, description=None, attributes=None), Extraction(extraction_class='product', extraction_text='ChatGPT Agent', char_interval=CharInterval(start_pos=8653, end_pos=8666), alignment_status=<AlignmentStatus.MATCH_EXACT: 'match_exact'>, extraction_index=6, group_index=5, description=None, attributes={'company': 'OpenAI'}), Extraction(extraction_class='company_name', extraction_text='Perplexity', char_interval=CharInterval(start_pos=8671, end_pos=8681), alignment_status=<AlignmentStatus.MATCH_EXACT: 'match_exact'>, extraction_index=7, group_index=6, description=None, attributes=None), Extraction(extraction_class='product', extraction_text='Comet', char_interval=CharInterval(start_pos=8684, end_pos=8689), alignment_status=<AlignmentStatus.MATCH_EXACT: 'match_exact'>, extraction_index=8, group_index=7, description=None, attributes={'company': 'Perplexity'}), Extraction(extraction_class='person_name', extraction_text='Lightman', char_interval=CharInterval(start_pos=9190, end_pos=9198), alignment_status=<AlignmentStatus.MATCH_EXACT: 'match_exact'>, extraction_index=1, group_index=0, description=None, attributes=None), Extraction(extraction_class='person_name', extraction_text='Noam Brown', char_interval=CharInterval(start_pos=9425, end_pos=9435), alignment_status=<AlignmentStatus.MATCH_EXACT: 'match_exact'>, extraction_index=2, group_index=1, description=None, attributes={'company': 'OpenAI'}), Extraction(extraction_class='company_name', extraction_text='OpenAI', char_interval=CharInterval(start_pos=9440, end_pos=9446), alignment_status=<AlignmentStatus.MATCH_EXACT: 'match_exact'>, extraction_index=3, group_index=2, description=None, attributes={'employee': 'Noam Brown'}), Extraction(extraction_class='ai_model', extraction_text='IMO model', char_interval=CharInterval(start_pos=9480, end_pos=9489), alignment_status=<AlignmentStatus.MATCH_EXACT: 'match_exact'>, extraction_index=4, group_index=3, description=None, attributes={'company': 'OpenAI'}), Extraction(extraction_class='ai_model', extraction_text='o1', char_interval=CharInterval(start_pos=9494, end_pos=9496), alignment_status=<AlignmentStatus.MATCH_EXACT: 'match_exact'>, extraction_index=5, group_index=4, description=None, attributes={'company': 'OpenAI'}), Extraction(extraction_class='company_name', extraction_text='TechCrunch', char_interval=CharInterval(start_pos=9503, end_pos=9513), alignment_status=<AlignmentStatus.MATCH_EXACT: 'match_exact'>, extraction_index=6, group_index=5, description=None, attributes=None), Extraction(extraction_class='company_name', extraction_text='Google', char_interval=CharInterval(start_pos=9936, end_pos=9942), alignment_status=<AlignmentStatus.MATCH_EXACT: 'match_exact'>, extraction_index=7, group_index=6, description=None, attributes=None), Extraction(extraction_class='company_name', extraction_text='xAI', char_interval=CharInterval(start_pos=9947, end_pos=9950), alignment_status=<AlignmentStatus.MATCH_EXACT: 'match_exact'>, extraction_index=8, group_index=7, description=None, attributes=None), Extraction(extraction_class='person_name', extraction_text='Brown', char_interval=CharInterval(start_pos=10154, end_pos=10159), alignment_status=<AlignmentStatus.MATCH_EXACT: 'match_exact'>, extraction_index=1, group_index=0, description=None, attributes=None), Extraction(extraction_class='company_name', extraction_text='OpenAI', char_interval=CharInterval(start_pos=10280, end_pos=10286), alignment_status=<AlignmentStatus.MATCH_EXACT: 'match_exact'>, extraction_index=2, group_index=1, description=None, attributes=None), Extraction(extraction_class='ai_model', extraction_text='GPT-5', char_interval=CharInterval(start_pos=10371, end_pos=10376), alignment_status=<AlignmentStatus.MATCH_EXACT: 'match_exact'>, extraction_index=3, group_index=2, description=None, attributes={'company': 'OpenAI'}), Extraction(extraction_class='person_name', extraction_text='El Kishky', char_interval=CharInterval(start_pos=10610, end_pos=10619), alignment_status=<AlignmentStatus.MATCH_EXACT: 'match_exact'>, extraction_index=4, group_index=3, description=None, attributes={'company': 'OpenAI'}), Extraction(extraction_class='product', extraction_text='ChatGPT', char_interval=CharInterval(start_pos=10926, end_pos=10933), alignment_status=<AlignmentStatus.MATCH_EXACT: 'match_exact'>, extraction_index=1, group_index=0, description=None, attributes={'company': 'OpenAI'}), Extraction(extraction_class='company_name', extraction_text='OpenAI', char_interval=CharInterval(start_pos=11165, end_pos=11171), alignment_status=<AlignmentStatus.MATCH_EXACT: 'match_exact'>, extraction_index=2, group_index=1, description=None, attributes=None), Extraction(extraction_class='company_name', extraction_text='Google', char_interval=CharInterval(start_pos=11385, end_pos=11391), alignment_status=<AlignmentStatus.MATCH_EXACT: 'match_exact'>, extraction_index=3, group_index=2, description=None, attributes=None), Extraction(extraction_class='company_name', extraction_text='Anthropic', char_interval=CharInterval(start_pos=11393, end_pos=11402), alignment_status=<AlignmentStatus.MATCH_EXACT: 'match_exact'>, extraction_index=4, group_index=3, description=None, attributes=None), Extraction(extraction_class='company_name', extraction_text='xAI', char_interval=CharInterval(start_pos=11404, end_pos=11407), alignment_status=<AlignmentStatus.MATCH_EXACT: 'match_exact'>, extraction_index=5, group_index=4, description=None, attributes=None), Extraction(extraction_class='company_name', extraction_text='Meta', char_interval=CharInterval(start_pos=11412, end_pos=11416), alignment_status=<AlignmentStatus.MATCH_EXACT: 'match_exact'>, extraction_index=6, group_index=5, description=None, attributes=None)], text='Shortly after Hunter Lightman joined OpenAI as a researcher in 2022, he watched his colleagues launch ChatGPT, one of the fastest-growing products ever. Meanwhile, Lightman quietly worked on a team teaching OpenAI’s models to solve high school math competitions. \\n\\nToday that team, known as MathGen, is considered instrumental to OpenAI’s industry-leading effort to create AI reasoning models: the core technology behind AI agents that can do tasks on a computer like a human would.\\n\\n“We were trying to make the models better at mathematical reasoning, which at the time they weren’t very good at,” Lightman told TechCrunch, describing MathGen’s early work.\\n\\nOpenAI’s models are far from perfect today — the company’s latest AI systems still hallucinate and its agents struggle with complex tasks.\\n\\nBut its state-of-the-art models have improved significantly on mathematical reasoning. One of OpenAI’s models recently won a gold medal at the International Math Olympiad, a math competition for the world’s brightest high school students. OpenAI believes these reasoning capabilities will translate to other subjects, and ultimately power general-purpose agents that the company has always dreamed of building.\\n\\nChatGPT was a happy accident — a lowkey research preview turned viral consumer business — but OpenAI’s agents are the product of a years-long, deliberate effort within the company. \\n\\n“Eventually, you’ll just ask the computer for what you need and it’ll do all of these tasks for you,” said OpenAI CEO Sam Altman at the company’s first developer conference in 2023. “These capabilities are often talked about in the AI field as agents. The upsides of this are going to be tremendous.”\\n\\nWhether agents will meet Altman’s vision remains to be seen, but OpenAI shocked the world with the release of its first AI reasoning model, o1, in the fall of 2024. Less than a year later, the 21 foundational researchers behind that breakthrough are the most highly sought-after talent in Silicon Valley.\\n\\nMark Zuckerberg recruited five of the o1 researchers to work on Meta’s new superintelligence-focused unit, offering some compensation packages north of $100 million. One of them, Shengjia Zhao, was recently named chief scientist of Meta Superintelligence Labs.\\n\\nThe reinforcement learning renaissance\\nThe rise of OpenAI’s reasoning models and agents are tied to a machine learning training technique known as reinforcement learning (RL). RL provides feedback to an AI model on whether its choices were correct or not in simulated environments.\\n\\nRL has been used for decades. For instance, in 2016, about a year after OpenAI was founded in 2015, an AI system created by Google DeepMind using RL, AlphaGo, gained global attention after beating a world champion in the board game, Go.\\n\\nBy 2018, OpenAI pioneered its first large language model in the GPT series, pretrained on massive amounts of internet data and a large clusters of GPUs. GPT models excelled at text processing, eventually leading to ChatGPT, but struggled with basic math. \\n\\nIt took until 2023 for OpenAI to achieve a breakthrough, initially dubbed “Q*” and then “Strawberry,” by combining LLMs, RL, and a technique called test-time computation. The latter gave the models extra time and computing power to plan and work through problems, verifying its steps, before providing an answer.\\n\\nThis allowed OpenAI to introduce a new approach called “chain-of-thought” (CoT), which improved AI’s performance on math questions the models hadn’t seen before.\\n\\n“I could see the model starting to reason,” said El Kishky. “It would notice mistakes and backtrack, it would get frustrated. It really felt like reading the thoughts of a person.” \\n\\nThough individually these techniques weren’t novel, OpenAI uniquely combined them to create Strawberry, which directly led to the development of o1. OpenAI quickly identified that the planning and fact checking abilities of AI reasoning models could be useful to power AI agents.\\n\\n“We had solved a problem that I had been banging my head against for a couple of years,” said Lightman. “It was one of the most exciting moments of my research career.”\\n\\nScaling reasoning\\nWith AI reasoning models, OpenAI determined it had two new axes that would allow it to improve AI models: using more computational power during the post-training of AI models, and giving AI models more time and processing power while answering a question.\\n\\n“OpenAI, as a company, thinks a lot about not just the way things are, but the way things are going to scale,” said Lightman.\\n\\nShortly after the 2023 Strawberry breakthrough, OpenAI spun up an “Agents” team led by OpenAI researcher Daniel Selsam to make further progress on this new paradigm, two sources told TechCrunch. Although the team was called “Agents,”  OpenAI didn’t initially differentiate between reasoning models and agents as we think of them today. The company just wanted to make AI systems capable of completing complex tasks.\\n\\nEventually, the work of Selsam’s Agents team became part of a larger project to develop the o1 reasoning model, with leaders including OpenAI co-founder Ilya Sutskever, chief research officer Mark Chen, and chief scientist Jakub Pachocki.\\n\\nOpenAI would have to divert precious resources — mainly talent and GPUs — to create o1. Throughout OpenAI’s history, researchers have had to negotiate with company leaders to obtain resources; demonstrating breakthroughs was a surefire way to secure them.\\n\\n“One of the core components of OpenAI is that everything in research is bottom up,” said Lightman. “When we showed the evidence [for o1], the company was like, ‘This makes sense, let’s push on it.’”\\n\\nSome former employees say that the startup’s mission to develop AGI was the key factor in achieving breakthroughs around AI reasoning models. By focusing on developing the smartest-possible AI models, rather than products, OpenAI was able to prioritize o1 above other efforts. That type of large investment in ideas wasn’t always possible at competing AI labs.\\n\\nThe decision to try new training methods proved prescient. By late 2024, several leading AI labs started seeing diminishing returns on models created through traditional pretraining scaling. Today, much of the AI field’s momentum comes from advances in reasoning models.\\n\\nWhat does it mean for an AI to “reason?”\\nIn many ways, the goal of AI research is to recreate human intelligence with computers. Since the launch of o1, ChatGPT’s UX has been filled with more human-sounding features such as “thinking” and “reasoning.”\\n\\nWhen asked whether OpenAI’s models were truly reasoning, El Kishky hedged, saying he thinks about the concept in terms of computer science.\\n\\n“We’re teaching the model how to efficiently expend compute to get an answer. So if you define it that way, yes, it is reasoning,” said El Kishky.\\n\\nLightman takes the approach of focusing on the model’s results and not as much on the means or their relation to human brains.\\n\\n“If the model is doing hard things, then it is doing whatever necessary approximation of reasoning it needs in order to do that,” said Lightman. “We can call it reasoning, because it looks like these reasoning traces, but it’s all just a proxy for trying to make AI tools that are really powerful and useful to a lot of people.”\\n\\nOpenAI’s researchers note people may disagree with their nomenclature or definitions of reasoning — and surely, critics have emerged — but they argue it’s less important than the capabilities of their models. Other AI researchers tend to agree.\\n\\nNathan Lambert, an AI researcher with the non-profit AI2, compares AI reasoning modes to airplanes in a blog post. Both, he says, are manmade systems inspired by nature — human reasoning and bird flight, respectively — but they operate through entirely different mechanisms. That doesn’t make them any less useful, or any less capable of achieving similar outcomes.\\n\\nA group of AI researchers from OpenAI, Anthropic, and Google DeepMind agreed in a recent position paper that AI reasoning models are not well understood today, and more research is needed. It may be too early to confidently claim what exactly is going on inside them.\\n\\nThe next frontier: AI agents for subjective tasks\\nThe AI agents on the market today work best for well-defined, verifiable domains such as coding. OpenAI’s Codex agent aims to help software engineers offload simple coding tasks. Meanwhile, Anthropic’s models have become particularly popular in AI coding tools like Cursor and Claude Code — these are some of the first AI agents that people are willing to pay up for.\\n\\nHowever, general purpose AI agents like OpenAI’s ChatGPT Agent and Perplexity’s Comet struggle with many of the complex, subjective tasks people want to automate. When trying to use these tools for online shopping or finding a long-term parking spot, I’ve found the agents take longer than I’d like and make silly mistakes.\\n\\nAgents are, of course, early systems that will undoubtedly improve. But researchers must first figure out how to better train the underlying models to complete tasks that are more subjective.\\n\\n“Like many problems in machine learning, it’s a data problem,” said Lightman, when asked about the limitations of agents on subjective tasks. “Some of the research I’m really excited about right now is figuring out how to train on less verifiable tasks. We have some leads on how to do these things.” \\n\\nNoam Brown, an OpenAI researcher who helped create the IMO model and o1, told TechCrunch that OpenAI has new general-purpose RL techniques which allow them to teach AI models skills that aren’t easily verified. This was how the company built the model which achieved a gold medal at IMO, he said.\\n\\nOpenAI’s IMO model was a newer AI system that spawns multiple agents, which then simultaneously explore several ideas, and then choose the best possible answer. These types of AI models are becoming more popular; Google and xAI have recently released state-of-the-art models using this technique.\\n\\n“I think these models will become more capable at math, and I think they’ll get more capable in other reasoning areas as well,” said Brown. “The progress has been incredibly fast. I don’t see any reason to think it will slow down.”\\n\\nThese techniques may help OpenAI’s models become more performant, gains that could show up in the company’s upcoming GPT-5 model. OpenAI hopes to assert its dominance over competitors with the launch of GPT-5, ideally offering the best AI model to power agents for developers and consumers.\\n\\nBut the company also wants to make its products simpler to use. El Kishky says OpenAI wants to develop AI agents that intuitively understand what users want, without requiring them to select specific settings. He says OpenAI aims to build AI systems that understand when to call up certain tools, and how long to reason for.\\n\\nThese ideas paint a picture of an ultimate version of ChatGPT: an agent that can do anything on the internet for you, and understand how you want it to be done. That’s a much different product than what ChatGPT is today, but the company’s research is squarely headed in this direction.\\n\\nWhile OpenAI undoubtedly led the AI industry a few years ago, the company now faces a tranche of worthy opponents. The question is no longer just whether OpenAI can deliver its agentic future, but can the company do so before Google, Anthropic, xAI, or Meta beat them to it?')"
            ]
          },
          "metadata": {},
          "execution_count": 36
        }
      ]
    },
    {
      "cell_type": "markdown",
      "source": [
        "### Print out the people mentioned"
      ],
      "metadata": {
        "id": "whLDWVpwYg_y"
      }
    },
    {
      "cell_type": "code",
      "source": [
        "for ex in result.extractions:\n",
        "    if ex.extraction_class == \"person_name\":\n",
        "        print(ex.extraction_class)\n",
        "        print(ex.extraction_text)\n",
        "        print(ex.attributes)\n",
        "        print(ex.char_interval)\n",
        "        print(\"====================\")"
      ],
      "metadata": {
        "colab": {
          "base_uri": "https://localhost:8080/"
        },
        "id": "jIyOvfC7UA9j",
        "outputId": "1bf9da39-b848-4679-cca6-13a50ce7ecfd"
      },
      "execution_count": 8,
      "outputs": [
        {
          "output_type": "stream",
          "name": "stdout",
          "text": [
            "person_name\n",
            "Hunter Lightman\n",
            "{'company': 'OpenAI'}\n",
            "CharInterval(start_pos=14, end_pos=29)\n",
            "====================\n",
            "person_name\n",
            "Lightman\n",
            "{'company': 'OpenAI'}\n",
            "CharInterval(start_pos=598, end_pos=606)\n",
            "====================\n",
            "person_name\n",
            "Sam Altman\n",
            "{'company': 'OpenAI'}\n",
            "CharInterval(start_pos=1510, end_pos=1520)\n",
            "====================\n",
            "person_name\n",
            "Altman\n",
            "{'company': 'OpenAI'}\n",
            "CharInterval(start_pos=1719, end_pos=1725)\n",
            "====================\n",
            "person_name\n",
            "Mark Zuckerberg\n",
            "{'company': 'Meta'}\n",
            "CharInterval(start_pos=2000, end_pos=2015)\n",
            "====================\n",
            "person_name\n",
            "Shengjia Zhao\n",
            "{'company': 'Meta Superintelligence Labs'}\n",
            "CharInterval(start_pos=2179, end_pos=2192)\n",
            "====================\n",
            "person_name\n",
            "El Kishky\n",
            "None\n",
            "CharInterval(start_pos=3565, end_pos=3574)\n",
            "====================\n",
            "person_name\n",
            "Lightman\n",
            "None\n",
            "CharInterval(start_pos=4073, end_pos=4081)\n",
            "====================\n",
            "person_name\n",
            "Lightman\n",
            "None\n",
            "CharInterval(start_pos=4540, end_pos=4548)\n",
            "====================\n",
            "person_name\n",
            "Daniel Selsam\n",
            "{'company': 'OpenAI'}\n",
            "CharInterval(start_pos=4656, end_pos=4669)\n",
            "====================\n",
            "person_name\n",
            "Ilya Sutskever\n",
            "{'company': 'OpenAI'}\n",
            "CharInterval(start_pos=5121, end_pos=5135)\n",
            "====================\n",
            "person_name\n",
            "Mark Chen\n",
            "{'company': 'OpenAI'}\n",
            "CharInterval(start_pos=5160, end_pos=5169)\n",
            "====================\n",
            "person_name\n",
            "Jakub Pachocki\n",
            "{'company': 'OpenAI'}\n",
            "CharInterval(start_pos=5191, end_pos=5205)\n",
            "====================\n",
            "person_name\n",
            "Lightman\n",
            "None\n",
            "CharInterval(start_pos=5554, end_pos=5562)\n",
            "====================\n",
            "person_name\n",
            "El Kishky\n",
            "{'company': 'OpenAI'}\n",
            "CharInterval(start_pos=6609, end_pos=6618)\n",
            "====================\n",
            "person_name\n",
            "Lightman\n",
            "{'company': 'OpenAI'}\n",
            "CharInterval(start_pos=6841, end_pos=6849)\n",
            "====================\n",
            "person_name\n",
            "Nathan Lambert\n",
            "{'company': 'AI2'}\n",
            "CharInterval(start_pos=7545, end_pos=7559)\n",
            "====================\n",
            "person_name\n",
            "Lightman\n",
            "None\n",
            "CharInterval(start_pos=9186, end_pos=9194)\n",
            "====================\n",
            "person_name\n",
            "Noam Brown\n",
            "{'company': 'OpenAI'}\n",
            "CharInterval(start_pos=9420, end_pos=9430)\n",
            "====================\n",
            "person_name\n",
            "Brown\n",
            "None\n",
            "CharInterval(start_pos=10149, end_pos=10154)\n",
            "====================\n",
            "person_name\n",
            "El Kishky\n",
            "{'company': 'OpenAI'}\n",
            "CharInterval(start_pos=10605, end_pos=10614)\n",
            "====================\n"
          ]
        }
      ]
    },
    {
      "cell_type": "markdown",
      "source": [
        "## Companies mentioned"
      ],
      "metadata": {
        "id": "TQO5s_ZGZB81"
      }
    },
    {
      "cell_type": "code",
      "source": [
        "unique_companies = set()\n",
        "for ex in result.extractions:\n",
        "    if ex.extraction_class == \"company_name\":\n",
        "        unique_companies.add(ex.extraction_text)\n",
        "\n",
        "for ex in result.extractions:\n",
        "    if ex.extraction_class == \"company_name\":\n",
        "        print(ex.extraction_text)\n",
        "        print(ex.char_interval)\n",
        "        print(\"====================\")\n",
        "\n",
        "print(unique_companies)"
      ],
      "metadata": {
        "colab": {
          "base_uri": "https://localhost:8080/"
        },
        "id": "W-6EuJv1WqPh",
        "outputId": "222b6ed3-d256-43f7-f276-9301d9b12849"
      },
      "execution_count": 9,
      "outputs": [
        {
          "output_type": "stream",
          "name": "stdout",
          "text": [
            "OpenAI\n",
            "CharInterval(start_pos=37, end_pos=43)\n",
            "====================\n",
            "OpenAI\n",
            "CharInterval(start_pos=37, end_pos=43)\n",
            "====================\n",
            "OpenAI\n",
            "CharInterval(start_pos=329, end_pos=335)\n",
            "====================\n",
            "OpenAI\n",
            "CharInterval(start_pos=37, end_pos=43)\n",
            "====================\n",
            "OpenAI\n",
            "CharInterval(start_pos=37, end_pos=43)\n",
            "====================\n",
            "OpenAI\n",
            "CharInterval(start_pos=892, end_pos=898)\n",
            "====================\n",
            "OpenAI\n",
            "CharInterval(start_pos=1037, end_pos=1043)\n",
            "====================\n",
            "OpenAI\n",
            "CharInterval(start_pos=892, end_pos=898)\n",
            "====================\n",
            "OpenAI\n",
            "CharInterval(start_pos=1759, end_pos=1765)\n",
            "====================\n",
            "Meta\n",
            "CharInterval(start_pos=2064, end_pos=2068)\n",
            "====================\n",
            "Meta Superintelligence Labs\n",
            "CharInterval(start_pos=2232, end_pos=2259)\n",
            "====================\n",
            "OpenAI\n",
            "CharInterval(start_pos=2313, end_pos=2319)\n",
            "====================\n",
            "Google DeepMind\n",
            "CharInterval(start_pos=2669, end_pos=2684)\n",
            "====================\n",
            "OpenAI\n",
            "CharInterval(start_pos=2792, end_pos=2798)\n",
            "====================\n",
            "OpenAI\n",
            "CharInterval(start_pos=3750, end_pos=3756)\n",
            "====================\n",
            "OpenAI\n",
            "CharInterval(start_pos=3847, end_pos=3853)\n",
            "====================\n",
            "OpenAI\n",
            "CharInterval(start_pos=4193, end_pos=4199)\n",
            "====================\n",
            "OpenAI\n",
            "CharInterval(start_pos=4425, end_pos=4431)\n",
            "====================\n",
            "OpenAI\n",
            "CharInterval(start_pos=4599, end_pos=4605)\n",
            "====================\n",
            "OpenAI\n",
            "CharInterval(start_pos=5496, end_pos=5502)\n",
            "====================\n",
            "OpenAI\n",
            "CharInterval(start_pos=5496, end_pos=5502)\n",
            "====================\n",
            "OpenAI\n",
            "CharInterval(start_pos=5496, end_pos=5502)\n",
            "====================\n",
            "AI labs\n",
            "CharInterval(start_pos=6017, end_pos=6024)\n",
            "====================\n",
            "OpenAI\n",
            "CharInterval(start_pos=6571, end_pos=6577)\n",
            "====================\n",
            "OpenAI\n",
            "CharInterval(start_pos=7299, end_pos=7305)\n",
            "====================\n",
            "AI2\n",
            "CharInterval(start_pos=7598, end_pos=7601)\n",
            "====================\n",
            "OpenAI\n",
            "CharInterval(start_pos=7943, end_pos=7949)\n",
            "====================\n",
            "Anthropic\n",
            "CharInterval(start_pos=7951, end_pos=7960)\n",
            "====================\n",
            "Google DeepMind\n",
            "CharInterval(start_pos=7966, end_pos=7981)\n",
            "====================\n",
            "OpenAI\n",
            "CharInterval(start_pos=8328, end_pos=8334)\n",
            "====================\n",
            "Anthropic\n",
            "CharInterval(start_pos=8421, end_pos=8430)\n",
            "====================\n",
            "Perplexity\n",
            "CharInterval(start_pos=8667, end_pos=8677)\n",
            "====================\n",
            "OpenAI\n",
            "CharInterval(start_pos=9435, end_pos=9441)\n",
            "====================\n",
            "OpenAI\n",
            "CharInterval(start_pos=9514, end_pos=9520)\n",
            "====================\n",
            "Google\n",
            "CharInterval(start_pos=9931, end_pos=9937)\n",
            "====================\n",
            "xAI\n",
            "CharInterval(start_pos=9942, end_pos=9945)\n",
            "====================\n",
            "OpenAI\n",
            "CharInterval(start_pos=10275, end_pos=10281)\n",
            "====================\n",
            "OpenAI\n",
            "CharInterval(start_pos=10379, end_pos=10385)\n",
            "====================\n",
            "OpenAI\n",
            "CharInterval(start_pos=10620, end_pos=10626)\n",
            "====================\n",
            "OpenAI\n",
            "CharInterval(start_pos=11160, end_pos=11166)\n",
            "====================\n",
            "Google\n",
            "CharInterval(start_pos=11380, end_pos=11386)\n",
            "====================\n",
            "Anthropic\n",
            "CharInterval(start_pos=11388, end_pos=11397)\n",
            "====================\n",
            "xAI\n",
            "CharInterval(start_pos=11399, end_pos=11402)\n",
            "====================\n",
            "Meta\n",
            "CharInterval(start_pos=11407, end_pos=11411)\n",
            "====================\n",
            "{'Google DeepMind', 'Perplexity', 'xAI', 'AI labs', 'OpenAI', 'Google', 'Meta', 'AI2', 'Anthropic', 'Meta Superintelligence Labs'}\n"
          ]
        }
      ]
    },
    {
      "cell_type": "code",
      "source": [
        "for ex in result.extractions:\n",
        "    if ex.extraction_class == \"ai_model\" or ex.extraction_class == \"product\":\n",
        "        print(ex.extraction_class)\n",
        "        print(ex.extraction_text)\n",
        "        # print(ex.char_interval)\n",
        "        print(\"====================\")\n"
      ],
      "metadata": {
        "colab": {
          "base_uri": "https://localhost:8080/"
        },
        "id": "PEPDtpnSZYK3",
        "outputId": "1d6d8043-73ed-45b9-8029-76609e69e646"
      },
      "execution_count": 10,
      "outputs": [
        {
          "output_type": "stream",
          "name": "stdout",
          "text": [
            "product\n",
            "ChatGPT\n",
            "====================\n",
            "ai_model\n",
            "OpenAI’s models\n",
            "====================\n",
            "ai_model\n",
            "OpenAI’s models\n",
            "====================\n",
            "ai_model\n",
            "ChatGPT\n",
            "====================\n",
            "ai_model\n",
            "o1\n",
            "====================\n",
            "ai_model\n",
            "reasoning models\n",
            "====================\n",
            "ai_model\n",
            "AlphaGo\n",
            "====================\n",
            "ai_model\n",
            "GPT\n",
            "====================\n",
            "product\n",
            "ChatGPT\n",
            "====================\n",
            "ai_model\n",
            "Q*\n",
            "====================\n",
            "ai_model\n",
            "Strawberry\n",
            "====================\n",
            "product\n",
            "Strawberry\n",
            "====================\n",
            "product\n",
            "o1\n",
            "====================\n",
            "ai_model\n",
            "AI reasoning models\n",
            "====================\n",
            "ai_model\n",
            "AI models\n",
            "====================\n",
            "ai_model\n",
            "AI models\n",
            "====================\n",
            "ai_model\n",
            "o1\n",
            "====================\n",
            "ai_model\n",
            "o1\n",
            "====================\n",
            "ai_model\n",
            "AI models\n",
            "====================\n",
            "product\n",
            "products\n",
            "====================\n",
            "ai_model\n",
            "o1\n",
            "====================\n",
            "ai_model\n",
            "models\n",
            "====================\n",
            "ai_model\n",
            "AI\n",
            "====================\n",
            "ai_model\n",
            "AI\n",
            "====================\n",
            "ai_model\n",
            "reasoning models\n",
            "====================\n",
            "ai_model\n",
            "o1\n",
            "====================\n",
            "ai_model\n",
            "ChatGPT\n",
            "====================\n",
            "ai_model\n",
            "Codex\n",
            "====================\n",
            "product\n",
            "Cursor\n",
            "====================\n",
            "product\n",
            "Claude Code\n",
            "====================\n",
            "ai_model\n",
            "ChatGPT Agent\n",
            "====================\n",
            "ai_model\n",
            "Comet\n",
            "====================\n",
            "ai_model\n",
            "IMO\n",
            "====================\n",
            "ai_model\n",
            "o1\n",
            "====================\n",
            "ai_model\n",
            "IMO\n",
            "====================\n",
            "ai_model\n",
            "GPT-5\n",
            "====================\n",
            "ai_model\n",
            "ChatGPT\n",
            "====================\n",
            "product\n",
            "ChatGPT\n",
            "====================\n"
          ]
        }
      ]
    }
  ]
}